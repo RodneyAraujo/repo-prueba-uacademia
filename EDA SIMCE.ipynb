{
 "cells": [
  {
   "cell_type": "code",
   "execution_count": null,
   "id": "18693a38-5720-4a66-9d59-049b5f0f1ddc",
   "metadata": {},
   "outputs": [],
   "source": [
    "#Importamos las librerias con las que trabajaremos\n",
    "import pandas as pd\n",
    "import plotly.express as px\n",
    "import matplotlib.pyplot as plt\n",
    "import numpy as np"
   ]
  },
  {
   "cell_type": "code",
   "execution_count": null,
   "id": "121be374-e2d8-4c3e-b7d4-7fb2a563f2e3",
   "metadata": {},
   "outputs": [],
   "source": [
    "#Cargamos el csv\n",
    "df = pd.read_csv('simce.csv', encoding='latin-1')\n",
    "df2 = pd.read_csv('promedio.csv', encoding='latin-1')"
   ]
  },
  {
   "cell_type": "code",
   "execution_count": null,
   "id": "c0ac2a19-c29e-47c0-b60f-70f05713b193",
   "metadata": {},
   "outputs": [],
   "source": [
    "# Agrupamos regiones con las que trabajaremos\n",
    "regiones_filtrar = [\n",
    "    'tarapacá',\n",
    "    'maule',\n",
    "    'la araucanía',\n",
    "    'aysén del general carlos ibáñez del campo',\n",
    "    'magallanes y de la antártica chilena',\n",
    "    'metropolitana'\n",
    "]"
   ]
  },
  {
   "cell_type": "code",
   "execution_count": null,
   "id": "d267d046-0b09-4e99-9138-437845c246a5",
   "metadata": {},
   "outputs": [],
   "source": [
    " #Filtrar el DataFrame\n",
    "df_filtrado = df[df['region'].str.lower().isin(regiones_filtrar)].copy()"
   ]
  },
  {
   "cell_type": "code",
   "execution_count": null,
   "id": "1a655582-e38e-41d7-a9f9-97a90cfa0e32",
   "metadata": {},
   "outputs": [],
   "source": [
    "#Tipos de datos y nombres de columnas\n",
    "print(df_filtrado.dtypes)"
   ]
  },
  {
   "cell_type": "code",
   "execution_count": null,
   "id": "4bf98e38-dc35-46d5-a553-4484354e8f05",
   "metadata": {},
   "outputs": [],
   "source": [
    "#Vemos la cantidad de columnas y filas\n",
    "df.shape"
   ]
  },
  {
   "cell_type": "markdown",
   "id": "dc541e1a-f1fb-4ce7-b92d-947ca8fa179d",
   "metadata": {},
   "source": [
    "### Hay 6507 filas y 6 columnas presentes en la tabla."
   ]
  },
  {
   "cell_type": "code",
   "execution_count": null,
   "id": "091aade0-31e3-49b0-9d83-d1b7c05180b3",
   "metadata": {},
   "outputs": [],
   "source": [
    "#Vemos la completitud de los datos\n",
    "print(df_filtrado.notnull().mean() * 100)"
   ]
  },
  {
   "cell_type": "markdown",
   "id": "fbea3060-6398-4c96-a84a-ba414ccc3772",
   "metadata": {},
   "source": [
    "## No es necesario imputar datos porque no hay valores perdidos; el dataset está completo."
   ]
  },
  {
   "cell_type": "code",
   "execution_count": null,
   "id": "dc88cdfd-e191-43ae-b34d-2a173db82a4b",
   "metadata": {},
   "outputs": [],
   "source": [
    "#Revisamos los outlayers con un scatterplot\n",
    "plt.figure(figsize=(12, 6))\n",
    "plt.subplot(1, 2, 1)\n",
    "df_filtrado.boxplot(column='lenguaje')\n",
    "plt.title('Boxplot Lenguaje')\n",
    "plt.subplot(1, 2, 2)\n",
    "df_filtrado.boxplot(column='matematicas')\n",
    "plt.title('Boxplot Matemáticas')\n",
    "plt.tight_layout()\n",
    "plt.show()"
   ]
  },
  {
   "cell_type": "code",
   "execution_count": null,
   "id": "0332d888-fd58-415f-9dce-4bd3b38653fd",
   "metadata": {},
   "outputs": [],
   "source": [
    "#Revisamos los valores outlayers.\n",
    "for col in ['lenguaje', 'matematicas']:\n",
    "    Q1 = df_filtrado[col].quantile(0.25)\n",
    "    Q3 = df_filtrado[col].quantile(0.75)\n",
    "    IQR = Q3 - Q1\n",
    "    filtro = (df_filtrado[col] < Q1 - 1.5 * IQR) | (df_filtrado[col] > Q3 + 1.5 * IQR)\n",
    "    n_outliers = filtro.sum()\n",
    "    porcentaje = filtro.mean() * 100\n",
    "    print(f\"{col}: {n_outliers} outliers ({porcentaje:.2f}%)\")\n",
    "    outliers = df_filtrado[filtro]"
   ]
  },
  {
   "cell_type": "markdown",
   "id": "d7b6e473-952d-4ae7-ac10-8964c12003b8",
   "metadata": {},
   "source": [
    "## Al ser valores minimos bajo el 5% tomamos la desición de no imputar \n"
   ]
  },
  {
   "cell_type": "code",
   "execution_count": null,
   "id": "3525db11-474c-40ef-ac58-d10d08f617ea",
   "metadata": {},
   "outputs": [],
   "source": [
    "#Revisamos el DF de simce\n",
    "print(df2.notnull().mean() * 100)"
   ]
  },
  {
   "cell_type": "code",
   "execution_count": null,
   "id": "ffd6b4f5-bd51-46c3-8570-13ce258573f8",
   "metadata": {},
   "outputs": [],
   "source": [
    "#Revisamos nulos\n",
    "plt.figure(figsize=(12, 6))\n",
    "plt.subplot(1, 2, 1)\n",
    "df2.boxplot(column='lenguaje')\n",
    "plt.title('Boxplot Lenguaje')\n",
    "plt.subplot(1, 2, 2)\n",
    "df_filtrado.boxplot(column='matematicas')\n",
    "plt.title('Boxplot Matemáticas')\n",
    "plt.tight_layout()\n",
    "plt.show()"
   ]
  },
  {
   "cell_type": "code",
   "execution_count": null,
   "id": "8193f568-5034-45cd-aad7-414319dbf562",
   "metadata": {},
   "outputs": [],
   "source": [
    "import numpy as np\n",
    "\n",
    "def porcentaje_outliers(df, columna):\n",
    "    Q1 = df[columna].quantile(0.25)\n",
    "    Q3 = df[columna].quantile(0.75)\n",
    "    IQR = Q3 - Q1\n",
    "    lower = Q1 - 1.5 * IQR\n",
    "    upper = Q3 + 1.5 * IQR\n",
    "    outliers = df[(df[columna] < lower) | (df[columna] > upper)]\n",
    "    porcentaje = 100 * len(outliers) / len(df)\n",
    "    return porcentaje\n",
    "\n",
    "# Ejemplo para 'lenguaje' y 'matematicas'\n",
    "porc_out_leng = porcentaje_outliers(df2, 'lenguaje')\n",
    "porc_out_mate = porcentaje_outliers(df2, 'matematicas')\n",
    "\n",
    "print(f\"Porcentaje de outliers en Lenguaje: {porc_out_leng:.2f}%\")\n",
    "print(f\"Porcentaje de outliers en Matemáticas: {porc_out_mate:.2f}%\")"
   ]
  },
  {
   "cell_type": "markdown",
   "id": "30bb7400-5d51-4283-b530-87b3fb912ed4",
   "metadata": {},
   "source": [
    "## No imputaremos ya que los outlayers presentan 0%"
   ]
  },
  {
   "cell_type": "code",
   "execution_count": null,
   "id": "43e1674f-4b80-4b26-b36a-efcde82dd83a",
   "metadata": {},
   "outputs": [],
   "source": []
  }
 ],
 "metadata": {
  "kernelspec": {
   "display_name": "Python [conda env:base] *",
   "language": "python",
   "name": "conda-base-py"
  },
  "language_info": {
   "codemirror_mode": {
    "name": "ipython",
    "version": 3
   },
   "file_extension": ".py",
   "mimetype": "text/x-python",
   "name": "python",
   "nbconvert_exporter": "python",
   "pygments_lexer": "ipython3",
   "version": "3.12.7"
  }
 },
 "nbformat": 4,
 "nbformat_minor": 5
}
